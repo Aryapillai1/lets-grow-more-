{
 "cells": [
  {
   "cell_type": "markdown",
   "id": "c831f517",
   "metadata": {},
   "source": [
    "#  Lets Grow More Virtual Internship\n",
    "\n",
    "# Task-4 Image to pencil Sketch with python - Beginner Level\n",
    "\n",
    "# Name : Arya Pillai\n",
    "\n",
    "#  Batch - August"
   ]
  },
  {
   "cell_type": "code",
   "execution_count": 2,
   "id": "d16cca45",
   "metadata": {},
   "outputs": [],
   "source": [
    "import cv2"
   ]
  },
  {
   "cell_type": "code",
   "execution_count": 3,
   "id": "00f3ea5f",
   "metadata": {},
   "outputs": [],
   "source": [
    "img = cv2.imread(\"Jerry.jpg\")"
   ]
  },
  {
   "cell_type": "code",
   "execution_count": 4,
   "id": "09bd8b33",
   "metadata": {},
   "outputs": [],
   "source": [
    "gray_image=cv2.cvtColor(img, cv2.COLOR_BGR2GRAY)"
   ]
  },
  {
   "cell_type": "code",
   "execution_count": 5,
   "id": "a361f775",
   "metadata": {},
   "outputs": [],
   "source": [
    "inverted_gray_image = 255 - gray_image"
   ]
  },
  {
   "cell_type": "code",
   "execution_count": 6,
   "id": "42c3b944",
   "metadata": {},
   "outputs": [],
   "source": [
    "blurred_image = cv2.GaussianBlur(inverted_gray_image, (21, 21), 0)"
   ]
  },
  {
   "cell_type": "code",
   "execution_count": 7,
   "id": "68eb07be",
   "metadata": {},
   "outputs": [],
   "source": [
    "inverted_blurred_image = 255 - blurred_image"
   ]
  },
  {
   "cell_type": "code",
   "execution_count": 8,
   "id": "b787e450",
   "metadata": {},
   "outputs": [],
   "source": [
    "pencil_sketch_image = cv2.divide(gray_image, inverted_blurred_image, scale = 256.0)"
   ]
  },
  {
   "cell_type": "code",
   "execution_count": 9,
   "id": "9b9dcee2",
   "metadata": {},
   "outputs": [],
   "source": [
    "cv2.imshow('Original Image', img)"
   ]
  },
  {
   "cell_type": "code",
   "execution_count": 10,
   "id": "d7954368",
   "metadata": {},
   "outputs": [],
   "source": [
    "cv2.imshow('New Image', pencil_sketch_image)"
   ]
  },
  {
   "cell_type": "code",
   "execution_count": 11,
   "id": "7ad281cf",
   "metadata": {},
   "outputs": [
    {
     "data": {
      "text/plain": [
       "-1"
      ]
     },
     "execution_count": 11,
     "metadata": {},
     "output_type": "execute_result"
    }
   ],
   "source": [
    "cv2.waitKey(0)"
   ]
  },
  {
   "cell_type": "code",
   "execution_count": null,
   "id": "c986fade",
   "metadata": {},
   "outputs": [],
   "source": []
  },
  {
   "cell_type": "code",
   "execution_count": null,
   "id": "1f422d74",
   "metadata": {},
   "outputs": [],
   "source": []
  },
  {
   "cell_type": "code",
   "execution_count": null,
   "id": "95b4752b",
   "metadata": {},
   "outputs": [],
   "source": []
  },
  {
   "cell_type": "code",
   "execution_count": null,
   "id": "495af83c",
   "metadata": {},
   "outputs": [],
   "source": []
  },
  {
   "cell_type": "code",
   "execution_count": null,
   "id": "5f4ea1b4",
   "metadata": {},
   "outputs": [],
   "source": []
  }
 ],
 "metadata": {
  "kernelspec": {
   "display_name": "Python 3 (ipykernel)",
   "language": "python",
   "name": "python3"
  },
  "language_info": {
   "codemirror_mode": {
    "name": "ipython",
    "version": 3
   },
   "file_extension": ".py",
   "mimetype": "text/x-python",
   "name": "python",
   "nbconvert_exporter": "python",
   "pygments_lexer": "ipython3",
   "version": "3.9.7"
  }
 },
 "nbformat": 4,
 "nbformat_minor": 5
}
